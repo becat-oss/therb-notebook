{
 "cells": [
  {
   "cell_type": "code",
   "execution_count": 1,
   "id": "c6cc85b3",
   "metadata": {},
   "outputs": [
    {
     "name": "stdout",
     "output_type": "stream",
     "text": [
      "Requirement already satisfied: psychrochart in c:\\users\\81803\\.virtualenvs\\therb-notebook-f658rqnh\\lib\\site-packages (0.3.1)\n",
      "Requirement already satisfied: scipy<2.0,>=1.3 in c:\\users\\81803\\.virtualenvs\\therb-notebook-f658rqnh\\lib\\site-packages (from psychrochart) (1.9.1)\n",
      "Requirement already satisfied: numpy<2.0,>=1.17 in c:\\users\\81803\\.virtualenvs\\therb-notebook-f658rqnh\\lib\\site-packages (from psychrochart) (1.23.2)\n",
      "Requirement already satisfied: matplotlib<4.0,>=3.1 in c:\\users\\81803\\.virtualenvs\\therb-notebook-f658rqnh\\lib\\site-packages (from psychrochart) (3.5.3)\n",
      "Requirement already satisfied: psychrolib<3.0,>=2.2 in c:\\users\\81803\\.virtualenvs\\therb-notebook-f658rqnh\\lib\\site-packages (from psychrochart) (2.5.0)\n",
      "Requirement already satisfied: cycler>=0.10 in c:\\users\\81803\\.virtualenvs\\therb-notebook-f658rqnh\\lib\\site-packages (from matplotlib<4.0,>=3.1->psychrochart) (0.11.0)\n",
      "Requirement already satisfied: python-dateutil>=2.7 in c:\\users\\81803\\.virtualenvs\\therb-notebook-f658rqnh\\lib\\site-packages (from matplotlib<4.0,>=3.1->psychrochart) (2.8.2)\n",
      "Requirement already satisfied: kiwisolver>=1.0.1 in c:\\users\\81803\\.virtualenvs\\therb-notebook-f658rqnh\\lib\\site-packages (from matplotlib<4.0,>=3.1->psychrochart) (1.4.4)\n",
      "Requirement already satisfied: pillow>=6.2.0 in c:\\users\\81803\\.virtualenvs\\therb-notebook-f658rqnh\\lib\\site-packages (from matplotlib<4.0,>=3.1->psychrochart) (9.2.0)\n",
      "Requirement already satisfied: packaging>=20.0 in c:\\users\\81803\\.virtualenvs\\therb-notebook-f658rqnh\\lib\\site-packages (from matplotlib<4.0,>=3.1->psychrochart) (21.3)\n",
      "Requirement already satisfied: pyparsing>=2.2.1 in c:\\users\\81803\\.virtualenvs\\therb-notebook-f658rqnh\\lib\\site-packages (from matplotlib<4.0,>=3.1->psychrochart) (3.0.9)\n",
      "Requirement already satisfied: fonttools>=4.22.0 in c:\\users\\81803\\.virtualenvs\\therb-notebook-f658rqnh\\lib\\site-packages (from matplotlib<4.0,>=3.1->psychrochart) (4.37.1)\n",
      "Requirement already satisfied: six>=1.5 in c:\\users\\81803\\.virtualenvs\\therb-notebook-f658rqnh\\lib\\site-packages (from python-dateutil>=2.7->matplotlib<4.0,>=3.1->psychrochart) (1.16.0)\n"
     ]
    }
   ],
   "source": [
    "!pip install psychrochart"
   ]
  },
  {
   "cell_type": "code",
   "execution_count": 3,
   "id": "bed55309",
   "metadata": {},
   "outputs": [
    {
     "data": {
      "text/plain": [
       "<Figure size 2400x1350 with 1 Axes>"
      ]
     },
     "execution_count": 3,
     "metadata": {},
     "output_type": "execute_result"
    }
   ],
   "source": [
    "from psychrochart import PsychroChart\n",
    "\n",
    "chart_default = PsychroChart('default')\n",
    "ax = chart_default.plot()\n",
    "ax.get_figure()"
   ]
  }
 ],
 "metadata": {
  "kernelspec": {
   "display_name": "Python 3 (ipykernel)",
   "language": "python",
   "name": "python3"
  },
  "language_info": {
   "codemirror_mode": {
    "name": "ipython",
    "version": 3
   },
   "file_extension": ".py",
   "mimetype": "text/x-python",
   "name": "python",
   "nbconvert_exporter": "python",
   "pygments_lexer": "ipython3",
   "version": "3.9.6"
  }
 },
 "nbformat": 4,
 "nbformat_minor": 5
}
