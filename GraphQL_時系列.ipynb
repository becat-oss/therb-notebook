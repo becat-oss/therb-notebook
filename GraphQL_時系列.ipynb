{
 "cells": [
  {
   "cell_type": "code",
   "execution_count": 4,
   "id": "7f12c47c",
   "metadata": {},
   "outputs": [
    {
     "name": "stdout",
     "output_type": "stream",
     "text": [
      "Requirement already satisfied: gql[all] in c:\\users\\81803\\anaconda3\\lib\\site-packages (3.4.0)\n",
      "Requirement already satisfied: backoff<3.0,>=1.11.1 in c:\\users\\81803\\anaconda3\\lib\\site-packages (from gql[all]) (2.2.1)\n",
      "Requirement already satisfied: yarl<2.0,>=1.6 in c:\\users\\81803\\anaconda3\\lib\\site-packages (from gql[all]) (1.8.1)\n",
      "Requirement already satisfied: graphql-core<3.3,>=3.2 in c:\\users\\81803\\anaconda3\\lib\\site-packages (from gql[all]) (3.2.3)\n",
      "Requirement already satisfied: botocore<2,>=1.21 in c:\\users\\81803\\anaconda3\\lib\\site-packages (from gql[all]) (1.27.89)\n",
      "Requirement already satisfied: urllib3>=1.26 in c:\\users\\81803\\anaconda3\\lib\\site-packages (from gql[all]) (1.26.7)\n",
      "Requirement already satisfied: aiohttp<3.9.0,>=3.7.1 in c:\\users\\81803\\anaconda3\\lib\\site-packages (from gql[all]) (3.8.3)\n",
      "Requirement already satisfied: websockets<11,>=10 in c:\\users\\81803\\anaconda3\\lib\\site-packages (from gql[all]) (10.3)\n",
      "Requirement already satisfied: requests-toolbelt<1,>=0.9.1 in c:\\users\\81803\\anaconda3\\lib\\site-packages (from gql[all]) (0.10.0)\n",
      "Requirement already satisfied: requests<3,>=2.26 in c:\\users\\81803\\anaconda3\\lib\\site-packages (from gql[all]) (2.26.0)\n",
      "Requirement already satisfied: charset-normalizer<3.0,>=2.0 in c:\\users\\81803\\anaconda3\\lib\\site-packages (from aiohttp<3.9.0,>=3.7.1->gql[all]) (2.0.4)\n",
      "Requirement already satisfied: async-timeout<5.0,>=4.0.0a3 in c:\\users\\81803\\anaconda3\\lib\\site-packages (from aiohttp<3.9.0,>=3.7.1->gql[all]) (4.0.2)\n",
      "Requirement already satisfied: multidict<7.0,>=4.5 in c:\\users\\81803\\anaconda3\\lib\\site-packages (from aiohttp<3.9.0,>=3.7.1->gql[all]) (6.0.2)\n",
      "Requirement already satisfied: aiosignal>=1.1.2 in c:\\users\\81803\\anaconda3\\lib\\site-packages (from aiohttp<3.9.0,>=3.7.1->gql[all]) (1.2.0)\n",
      "Requirement already satisfied: attrs>=17.3.0 in c:\\users\\81803\\anaconda3\\lib\\site-packages (from aiohttp<3.9.0,>=3.7.1->gql[all]) (21.2.0)\n",
      "Requirement already satisfied: frozenlist>=1.1.1 in c:\\users\\81803\\anaconda3\\lib\\site-packages (from aiohttp<3.9.0,>=3.7.1->gql[all]) (1.3.1)\n",
      "Requirement already satisfied: python-dateutil<3.0.0,>=2.1 in c:\\users\\81803\\anaconda3\\lib\\site-packages (from botocore<2,>=1.21->gql[all]) (2.8.2)\n",
      "Requirement already satisfied: jmespath<2.0.0,>=0.7.1 in c:\\users\\81803\\anaconda3\\lib\\site-packages (from botocore<2,>=1.21->gql[all]) (1.0.1)\n",
      "Requirement already satisfied: six>=1.5 in c:\\users\\81803\\anaconda3\\lib\\site-packages (from python-dateutil<3.0.0,>=2.1->botocore<2,>=1.21->gql[all]) (1.16.0)\n",
      "Requirement already satisfied: idna<4,>=2.5 in c:\\users\\81803\\anaconda3\\lib\\site-packages (from requests<3,>=2.26->gql[all]) (3.2)\n",
      "Requirement already satisfied: certifi>=2017.4.17 in c:\\users\\81803\\anaconda3\\lib\\site-packages (from requests<3,>=2.26->gql[all]) (2021.10.8)\n"
     ]
    }
   ],
   "source": [
    "!pip install gql[all]"
   ]
  },
  {
   "cell_type": "code",
   "execution_count": 5,
   "id": "36b245f1",
   "metadata": {},
   "outputs": [],
   "source": [
    "import json\n",
    "\n",
    "from gql import gql, Client\n",
    "from gql.transport.aiohttp import AIOHTTPTransport"
   ]
  },
  {
   "cell_type": "code",
   "execution_count": 6,
   "id": "84883b24",
   "metadata": {},
   "outputs": [],
   "source": [
    "transport = AIOHTTPTransport(url=\"https://oyster-app-8jboe.ondigitalocean.app/graphql\")\n",
    "client = Client(transport=transport, fetch_schema_from_transport=True)"
   ]
  },
  {
   "cell_type": "code",
   "execution_count": 7,
   "id": "80d339f5",
   "metadata": {},
   "outputs": [],
   "source": [
    "query = gql(\"\"\"\n",
    "    {\n",
    "      result(q:6){\n",
    "        id\n",
    "        hour\n",
    "        roomT\n",
    "      }\n",
    "    }\n",
    "\"\"\")"
   ]
  },
  {
   "cell_type": "code",
   "execution_count": 8,
   "id": "8e3e493e",
   "metadata": {},
   "outputs": [
    {
     "ename": "GraphQLError",
     "evalue": "Cannot query field 'hour' on type 'Therb'.\n\nGraphQL request:5:9\n4 |         id\n5 |         hour\n  |         ^\n6 |         roomT",
     "output_type": "error",
     "traceback": [
      "\u001b[1;31m---------------------------------------------------------------------------\u001b[0m",
      "\u001b[1;31mGraphQLError\u001b[0m                              Traceback (most recent call last)",
      "\u001b[1;32m~\\AppData\\Local\\Temp/ipykernel_4680/3851117556.py\u001b[0m in \u001b[0;36m<module>\u001b[1;34m\u001b[0m\n\u001b[1;32m----> 1\u001b[1;33m \u001b[0mresult\u001b[0m \u001b[1;33m=\u001b[0m \u001b[1;32mawait\u001b[0m \u001b[0mclient\u001b[0m\u001b[1;33m.\u001b[0m\u001b[0mexecute_async\u001b[0m\u001b[1;33m(\u001b[0m\u001b[0mquery\u001b[0m\u001b[1;33m)\u001b[0m\u001b[1;33m\u001b[0m\u001b[1;33m\u001b[0m\u001b[0m\n\u001b[0m",
      "\u001b[1;32m~\\anaconda3\\lib\\site-packages\\gql\\client.py\u001b[0m in \u001b[0;36mexecute_async\u001b[1;34m(self, document, variable_values, operation_name, serialize_variables, parse_result, get_execution_result, **kwargs)\u001b[0m\n\u001b[0;32m    283\u001b[0m         \u001b[1;34m\"\"\":meta private:\"\"\"\u001b[0m\u001b[1;33m\u001b[0m\u001b[1;33m\u001b[0m\u001b[0m\n\u001b[0;32m    284\u001b[0m         \u001b[1;32masync\u001b[0m \u001b[1;32mwith\u001b[0m \u001b[0mself\u001b[0m \u001b[1;32mas\u001b[0m \u001b[0msession\u001b[0m\u001b[1;33m:\u001b[0m\u001b[1;33m\u001b[0m\u001b[1;33m\u001b[0m\u001b[0m\n\u001b[1;32m--> 285\u001b[1;33m             return await session.execute(\n\u001b[0m\u001b[0;32m    286\u001b[0m                 \u001b[0mdocument\u001b[0m\u001b[1;33m,\u001b[0m\u001b[1;33m\u001b[0m\u001b[1;33m\u001b[0m\u001b[0m\n\u001b[0;32m    287\u001b[0m                 \u001b[0mvariable_values\u001b[0m\u001b[1;33m=\u001b[0m\u001b[0mvariable_values\u001b[0m\u001b[1;33m,\u001b[0m\u001b[1;33m\u001b[0m\u001b[1;33m\u001b[0m\u001b[0m\n",
      "\u001b[1;32m~\\anaconda3\\lib\\site-packages\\gql\\client.py\u001b[0m in \u001b[0;36mexecute\u001b[1;34m(self, document, variable_values, operation_name, serialize_variables, parse_result, get_execution_result, **kwargs)\u001b[0m\n\u001b[0;32m   1218\u001b[0m \u001b[1;33m\u001b[0m\u001b[0m\n\u001b[0;32m   1219\u001b[0m         \u001b[1;31m# Validate and execute on the transport\u001b[0m\u001b[1;33m\u001b[0m\u001b[1;33m\u001b[0m\u001b[0m\n\u001b[1;32m-> 1220\u001b[1;33m         result = await self._execute(\n\u001b[0m\u001b[0;32m   1221\u001b[0m             \u001b[0mdocument\u001b[0m\u001b[1;33m,\u001b[0m\u001b[1;33m\u001b[0m\u001b[1;33m\u001b[0m\u001b[0m\n\u001b[0;32m   1222\u001b[0m             \u001b[0mvariable_values\u001b[0m\u001b[1;33m=\u001b[0m\u001b[0mvariable_values\u001b[0m\u001b[1;33m,\u001b[0m\u001b[1;33m\u001b[0m\u001b[1;33m\u001b[0m\u001b[0m\n",
      "\u001b[1;32m~\\anaconda3\\lib\\site-packages\\gql\\client.py\u001b[0m in \u001b[0;36m_execute\u001b[1;34m(self, document, variable_values, operation_name, serialize_variables, parse_result, **kwargs)\u001b[0m\n\u001b[0;32m   1109\u001b[0m         \u001b[1;31m# Validate document\u001b[0m\u001b[1;33m\u001b[0m\u001b[1;33m\u001b[0m\u001b[0m\n\u001b[0;32m   1110\u001b[0m         \u001b[1;32mif\u001b[0m \u001b[0mself\u001b[0m\u001b[1;33m.\u001b[0m\u001b[0mclient\u001b[0m\u001b[1;33m.\u001b[0m\u001b[0mschema\u001b[0m\u001b[1;33m:\u001b[0m\u001b[1;33m\u001b[0m\u001b[1;33m\u001b[0m\u001b[0m\n\u001b[1;32m-> 1111\u001b[1;33m             \u001b[0mself\u001b[0m\u001b[1;33m.\u001b[0m\u001b[0mclient\u001b[0m\u001b[1;33m.\u001b[0m\u001b[0mvalidate\u001b[0m\u001b[1;33m(\u001b[0m\u001b[0mdocument\u001b[0m\u001b[1;33m)\u001b[0m\u001b[1;33m\u001b[0m\u001b[1;33m\u001b[0m\u001b[0m\n\u001b[0m\u001b[0;32m   1112\u001b[0m \u001b[1;33m\u001b[0m\u001b[0m\n\u001b[0;32m   1113\u001b[0m             \u001b[1;31m# Parse variable values for custom scalars if requested\u001b[0m\u001b[1;33m\u001b[0m\u001b[1;33m\u001b[0m\u001b[0m\n",
      "\u001b[1;32m~\\anaconda3\\lib\\site-packages\\gql\\client.py\u001b[0m in \u001b[0;36mvalidate\u001b[1;34m(self, document)\u001b[0m\n\u001b[0;32m    147\u001b[0m         \u001b[0mvalidation_errors\u001b[0m \u001b[1;33m=\u001b[0m \u001b[0mvalidate\u001b[0m\u001b[1;33m(\u001b[0m\u001b[0mself\u001b[0m\u001b[1;33m.\u001b[0m\u001b[0mschema\u001b[0m\u001b[1;33m,\u001b[0m \u001b[0mdocument\u001b[0m\u001b[1;33m)\u001b[0m\u001b[1;33m\u001b[0m\u001b[1;33m\u001b[0m\u001b[0m\n\u001b[0;32m    148\u001b[0m         \u001b[1;32mif\u001b[0m \u001b[0mvalidation_errors\u001b[0m\u001b[1;33m:\u001b[0m\u001b[1;33m\u001b[0m\u001b[1;33m\u001b[0m\u001b[0m\n\u001b[1;32m--> 149\u001b[1;33m             \u001b[1;32mraise\u001b[0m \u001b[0mvalidation_errors\u001b[0m\u001b[1;33m[\u001b[0m\u001b[1;36m0\u001b[0m\u001b[1;33m]\u001b[0m\u001b[1;33m\u001b[0m\u001b[1;33m\u001b[0m\u001b[0m\n\u001b[0m\u001b[0;32m    150\u001b[0m \u001b[1;33m\u001b[0m\u001b[0m\n\u001b[0;32m    151\u001b[0m     \u001b[1;32mdef\u001b[0m \u001b[0m_build_schema_from_introspection\u001b[0m\u001b[1;33m(\u001b[0m\u001b[0mself\u001b[0m\u001b[1;33m,\u001b[0m \u001b[0mexecution_result\u001b[0m\u001b[1;33m:\u001b[0m \u001b[0mExecutionResult\u001b[0m\u001b[1;33m)\u001b[0m\u001b[1;33m:\u001b[0m\u001b[1;33m\u001b[0m\u001b[1;33m\u001b[0m\u001b[0m\n",
      "\u001b[1;31mGraphQLError\u001b[0m: Cannot query field 'hour' on type 'Therb'.\n\nGraphQL request:5:9\n4 |         id\n5 |         hour\n  |         ^\n6 |         roomT"
     ]
    }
   ],
   "source": [
    "result = await client.execute_async(query)"
   ]
  },
  {
   "cell_type": "code",
   "execution_count": 3,
   "id": "25738881",
   "metadata": {},
   "outputs": [
    {
     "ename": "NameError",
     "evalue": "name 'result' is not defined",
     "output_type": "error",
     "traceback": [
      "\u001b[1;31m---------------------------------------------------------------------------\u001b[0m",
      "\u001b[1;31mNameError\u001b[0m                                 Traceback (most recent call last)",
      "\u001b[1;32m~\\AppData\\Local\\Temp/ipykernel_4680/1514454291.py\u001b[0m in \u001b[0;36m<module>\u001b[1;34m\u001b[0m\n\u001b[1;32m----> 1\u001b[1;33m \u001b[0mresult\u001b[0m\u001b[1;33m[\u001b[0m\u001b[1;34m\"result\"\u001b[0m\u001b[1;33m]\u001b[0m\u001b[1;33m\u001b[0m\u001b[1;33m\u001b[0m\u001b[0m\n\u001b[0m",
      "\u001b[1;31mNameError\u001b[0m: name 'result' is not defined"
     ]
    }
   ],
   "source": [
    "result[\"result\"]"
   ]
  },
  {
   "cell_type": "markdown",
   "id": "a3d5266f",
   "metadata": {},
   "source": [
    "# 処理を書く必要あり"
   ]
  },
  {
   "cell_type": "code",
   "execution_count": null,
   "id": "6ca6f43b",
   "metadata": {},
   "outputs": [],
   "source": [
    "def convertToDataframe(resultDict):\n",
    "    columns = []\n",
    "    rows = []\n",
    "    for k,v in resultDict.items():\n",
    "        columns.append(k)\n",
    "        rows.append(v)\n",
    "    \n",
    "    #transposedRows = np.array(rows,dtype=np.float32).T\n",
    "    transposedRows = np.array(rows).T\n",
    "    df = pd.DataFrame(data = transposedRows, columns = columns) \n",
    "    df=df.set_index('hour')\n",
    "    df=df.astype('float32')\n",
    "    #return transposedRows\n",
    "    return df"
   ]
  },
  {
   "cell_type": "code",
   "execution_count": null,
   "id": "e649e9ab",
   "metadata": {},
   "outputs": [],
   "source": []
  }
 ],
 "metadata": {
  "kernelspec": {
   "display_name": "Python 3 (ipykernel)",
   "language": "python",
   "name": "python3"
  },
  "language_info": {
   "codemirror_mode": {
    "name": "ipython",
    "version": 3
   },
   "file_extension": ".py",
   "mimetype": "text/x-python",
   "name": "python",
   "nbconvert_exporter": "python",
   "pygments_lexer": "ipython3",
   "version": "3.9.7"
  }
 },
 "nbformat": 4,
 "nbformat_minor": 5
}
